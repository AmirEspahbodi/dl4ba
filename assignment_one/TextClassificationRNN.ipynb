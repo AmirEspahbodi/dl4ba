{
  "cells": [
    {
      "cell_type": "code",
      "execution_count": 1,
      "metadata": {},
      "outputs": [],
      "source": [
        "import torch\n",
        "import torch.nn as nn\n",
        "import torch.optim as optim\n",
        "import torch.nn.functional as F\n",
        "from torch.utils.data import DataLoader, Dataset\n",
        "from torch.nn.utils.rnn import pad_sequence\n",
        "from torch.amp import GradScaler, autocast\n",
        "\n",
        "from transformers import BertTokenizerFast\n",
        "from sklearn.model_selection import train_test_split\n",
        "from sklearn.preprocessing import LabelEncoder\n",
        "\n",
        "import pandas as pd\n",
        "import numpy as np\n",
        "import matplotlib.pyplot as plt\n",
        "from tqdm import tqdm\n",
        "from functools import partial\n",
        "import os\n",
        "import requests\n",
        "import zipfile\n",
        "import re\n",
        "import gc"
      ]
    },
    {
      "cell_type": "code",
      "execution_count": 12,
      "metadata": {},
      "outputs": [],
      "source": [
        "\n",
        "# --- GloVe Configuration ---\n",
        "GLOVE_FILE_NAME = 'glove.6B.300d.txt'\n",
        "GLOVE_EMBEDDING_DIM = 300\n",
        "GLOVE_PATH = f'./{GLOVE_FILE_NAME}'\n",
        "GLOVE_ZIP_URL = 'http://nlp.stanford.edu/data/glove.6B.zip'\n",
        "GLOVE_LOCAL_ZIP_PATH = './glove.6B.zip'\n",
        "\n",
        "# --- Model & Training Configuration ---\n",
        "DEVICE = 'cuda' if torch.cuda.is_available() else 'cpu'\n",
        "# **** MEMORY OPTIMIZATION: Reduced BATCH_SIZE ****\n",
        "ACCUMULATION_STEPS = 4 # Effective batch size will be BATCH_SIZE * ACCUMULATION_STEPS (8*4=32)\n",
        "BATCH_SIZE = 8 # Reduced from 32. Try 8 if still OOM.\n",
        "\n",
        "LEARNING_RATE = 0.001\n",
        "WEIGHT_DECAY = 1e-5\n",
        "NUM_EPOCHS = 20\n",
        "VALID_SET_SIZE = 0.2\n",
        "MIN_CLASS_REPRESENTATION = 2 # For stratified split\n",
        "\n",
        "# --- RNN Specific Hyperparameters ---\n",
        "RNN_TYPE_CLASS = nn.LSTM\n",
        "# **** MEMORY OPTIMIZATION: Consider reducing RNN_HIDDEN_SIZE if OOM persists ****\n",
        "RNN_HIDDEN_SIZE = 128   # Try 64 for further memory saving\n",
        "RNN_NUM_LAYERS = 1\n",
        "# **** MEMORY OPTIMIZATION: Consider RNN_BIDIRECTIONAL = False if OOM persists ****\n",
        "RNN_BIDIRECTIONAL = True\n",
        "RNN_DROPOUT_RATE = 0.4 # Dropout for RNN and before final FC\n",
        "\n",
        "# Max Sequence Length for Truncation\n",
        "MAX_SEQ_LEN = 256\n",
        "\n"
      ]
    },
    {
      "cell_type": "code",
      "execution_count": 3,
      "metadata": {},
      "outputs": [
        {
          "name": "stdout",
          "output_type": "stream",
          "text": [
            "Found existing GloVe text file: ./glove.6B.300d.txt\n",
            "Loading GloVe vectors from ./glove.6B.300d.txt with dimension 300...\n"
          ]
        },
        {
          "name": "stderr",
          "output_type": "stream",
          "text": [
            "Loading GloVe: 400000it [00:13, 29437.33it/s]"
          ]
        },
        {
          "name": "stdout",
          "output_type": "stream",
          "text": [
            "Successfully loaded 400000 word vectors.\n"
          ]
        },
        {
          "name": "stderr",
          "output_type": "stream",
          "text": [
            "\n"
          ]
        }
      ],
      "source": [
        "def ensure_glove_file_is_present():\n",
        "    if os.path.exists(GLOVE_PATH):\n",
        "        print(f\"Found existing GloVe text file: {GLOVE_PATH}\")\n",
        "        return True\n",
        "    if not os.path.exists(GLOVE_LOCAL_ZIP_PATH):\n",
        "        print(f\"GloVe zip file {GLOVE_LOCAL_ZIP_PATH} not found. Attempting to download from {GLOVE_ZIP_URL}...\")\n",
        "        try:\n",
        "            response = requests.get(GLOVE_ZIP_URL, stream=True)\n",
        "            response.raise_for_status()\n",
        "            total_size_in_bytes = int(response.headers.get('content-length', 0))\n",
        "            block_size = 1024\n",
        "            with open(GLOVE_LOCAL_ZIP_PATH, 'wb') as file, tqdm(\n",
        "                desc=f\"Downloading {os.path.basename(GLOVE_ZIP_URL)}\",\n",
        "                total=total_size_in_bytes, unit='iB', unit_scale=True, unit_divisor=1024,\n",
        "            ) as bar:\n",
        "                for data in response.iter_content(block_size):\n",
        "                    bar.update(len(data))\n",
        "                    file.write(data)\n",
        "            print(f\"Successfully downloaded {GLOVE_LOCAL_ZIP_PATH}\")\n",
        "        except requests.exceptions.RequestException as e:\n",
        "            print(f\"Error downloading GloVe zip file: {e}\")\n",
        "            if os.path.exists(GLOVE_LOCAL_ZIP_PATH): os.remove(GLOVE_LOCAL_ZIP_PATH)\n",
        "            return False\n",
        "        except Exception as e:\n",
        "            print(f\"An unexpected error occurred during download: {e}\")\n",
        "            if os.path.exists(GLOVE_LOCAL_ZIP_PATH): os.remove(GLOVE_LOCAL_ZIP_PATH)\n",
        "            return False\n",
        "    else:\n",
        "        print(f\"Found existing GloVe zip file: {GLOVE_LOCAL_ZIP_PATH}\")\n",
        "\n",
        "    print(f\"Attempting to extract {GLOVE_FILE_NAME} from {GLOVE_LOCAL_ZIP_PATH}...\")\n",
        "    try:\n",
        "        with zipfile.ZipFile(GLOVE_LOCAL_ZIP_PATH, 'r') as zip_ref:\n",
        "            if GLOVE_FILE_NAME in zip_ref.namelist():\n",
        "                zip_ref.extract(GLOVE_FILE_NAME, path=os.path.dirname(GLOVE_PATH) or '.')\n",
        "                print(f\"Successfully extracted {GLOVE_FILE_NAME} to {GLOVE_PATH}\")\n",
        "                return True\n",
        "            else:\n",
        "                print(f\"Error: {GLOVE_FILE_NAME} not found inside {GLOVE_LOCAL_ZIP_PATH}.\")\n",
        "                print(f\"Available files: {zip_ref.namelist()}\")\n",
        "                return False\n",
        "    except zipfile.BadZipFile:\n",
        "        print(f\"Error: {GLOVE_LOCAL_ZIP_PATH} is a bad zip file. Please delete it and try again.\")\n",
        "        return False\n",
        "    except Exception as e:\n",
        "        print(f\"An error occurred during extraction: {e}\")\n",
        "        return False\n",
        "\n",
        "if not ensure_glove_file_is_present():\n",
        "    print(\"Could not obtain GloVe file. Exiting.\")\n",
        "    exit()\n",
        "\n",
        "def load_glove_vectors(glove_path, embedding_dim):\n",
        "    print(f\"Loading GloVe vectors from {glove_path} with dimension {embedding_dim}...\")\n",
        "    if not os.path.exists(glove_path):\n",
        "        print(f\"Error: GloVe file not found at {glove_path}.\")\n",
        "        return None\n",
        "    word_to_vec = {}\n",
        "    try:\n",
        "        with open(glove_path, 'r', encoding='utf-8') as f:\n",
        "            for line in tqdm(f, desc=\"Loading GloVe\"): \n",
        "                values = line.split()\n",
        "                word = values[0]\n",
        "                try:\n",
        "                    vector = np.asarray(values[1:], dtype='float32')\n",
        "                    if len(vector) == embedding_dim:\n",
        "                        word_to_vec[word] = vector\n",
        "                except ValueError:\n",
        "                    pass # Skip malformed lines\n",
        "    except Exception as e:\n",
        "        print(f\"An error occurred while reading the GloVe file: {e}\")\n",
        "        return None\n",
        "    if not word_to_vec:\n",
        "        print(f\"No word vectors loaded from {glove_path}.\")\n",
        "        return None\n",
        "    print(f\"Successfully loaded {len(word_to_vec)} word vectors.\")\n",
        "    return word_to_vec\n",
        "\n",
        "\n",
        "glove_vectors_map_global = load_glove_vectors(GLOVE_PATH, GLOVE_EMBEDDING_DIM)\n",
        "unk_embedding_global = np.random.rand(GLOVE_EMBEDDING_DIM).astype('float32')\n",
        "if glove_vectors_map_global:\n",
        "    if '[unk]' in glove_vectors_map_global: unk_embedding_global = glove_vectors_map_global['[unk]']\n",
        "    elif 'unk' in glove_vectors_map_global: unk_embedding_global = glove_vectors_map_global['unk']\n",
        "else:\n",
        "    print(\"GloVe vectors map is empty or not loaded. Using random UNK embedding. Training will be affected.\")\n"
      ]
    },
    {
      "cell_type": "code",
      "execution_count": 4,
      "metadata": {},
      "outputs": [
        {
          "name": "stdout",
          "output_type": "stream",
          "text": [
            "Loading BERT tokenizer...\n",
            "Tokenizer loaded.\n"
          ]
        }
      ],
      "source": [
        "print(\"Loading BERT tokenizer...\")\n",
        "tokenizer = BertTokenizerFast.from_pretrained('bert-base-uncased')\n",
        "print(\"Tokenizer loaded.\")\n",
        "\n"
      ]
    },
    {
      "cell_type": "code",
      "execution_count": 5,
      "metadata": {},
      "outputs": [
        {
          "name": "stdout",
          "output_type": "stream",
          "text": [
            "Loading gcc_data.csv...\n",
            "Original gcc_data shape: (2103, 5)\n",
            "Shape after dropping NA assignees: (2103, 6)\n",
            "Number of unique assignees (classes): 82\n"
          ]
        }
      ],
      "source": [
        "print(\"Loading gcc_data.csv...\")\n",
        "try:\n",
        "    df = pd.read_csv('../datasets/gcc_data.csv')\n",
        "except FileNotFoundError:\n",
        "    print(\"Error: gcc_data.csv not found. Please place it in the script's directory or provide the full path.\")\n",
        "    exit()\n",
        "\n",
        "print(f\"Original gcc_data shape: {df.shape}\")\n",
        "df['Summary'] = df['Summary'].fillna('').astype(str)\n",
        "df['Description'] = df['Description'].fillna('').astype(str)\n",
        "df['text_input'] = df['Summary'] + \" \" + df['Description']\n",
        "df.dropna(subset=['Assignee'], inplace=True)\n",
        "df['Assignee'] = df['Assignee'].astype(str)\n",
        "print(f\"Shape after dropping NA assignees: {df.shape}\")\n",
        "\n",
        "assignee_encoder = LabelEncoder()\n",
        "df['assignee_encoded'] = assignee_encoder.fit_transform(df['Assignee'])\n",
        "NUM_ACTUAL_CLS = len(assignee_encoder.classes_)\n",
        "print(f\"Number of unique assignees (classes): {NUM_ACTUAL_CLS}\")\n",
        "if NUM_ACTUAL_CLS <= 1:\n",
        "    print(\"Error: Only one or no classes found after encoding. Cannot train classifier.\")\n",
        "    exit()\n"
      ]
    },
    {
      "cell_type": "code",
      "execution_count": 6,
      "metadata": {},
      "outputs": [
        {
          "name": "stdout",
          "output_type": "stream",
          "text": [
            "Train set size: 1682, Test set size: 421\n"
          ]
        }
      ],
      "source": [
        "texts = df['text_input'].tolist()\n",
        "labels = df['assignee_encoded'].tolist()\n",
        "assignee_counts = df['Assignee'].value_counts()\n",
        "small_classes = assignee_counts[assignee_counts < MIN_CLASS_REPRESENTATION].index.tolist()\n",
        "stratify_labels = labels if not small_classes and NUM_ACTUAL_CLS > 0 else None\n",
        "\n",
        "train_texts, test_texts, train_labels, test_labels = train_test_split(\n",
        "    texts, labels, test_size=VALID_SET_SIZE, random_state=42, shuffle=True, stratify=stratify_labels\n",
        ")\n",
        "print(f\"Train set size: {len(train_texts)}, Test set size: {len(test_texts)}\")\n",
        "\n",
        "def create_data_list(texts_list, labels_list): # Renamed parameters for clarity\n",
        "    return [{'text': text, 'label': label} for text, label in zip(texts_list, labels_list)]\n",
        "\n",
        "train_data_list = create_data_list(train_texts, train_labels)\n",
        "test_data_list = create_data_list(test_texts, test_labels)\n",
        "\n"
      ]
    },
    {
      "cell_type": "code",
      "execution_count": 7,
      "metadata": {},
      "outputs": [
        {
          "name": "stdout",
          "output_type": "stream",
          "text": [
            "DataLoaders created for gcc_data.\n"
          ]
        }
      ],
      "source": [
        "def collate_with_glove(batch, hf_tokenizer, glove_word_vectors, embedding_dimension, unk_word_embedding, max_seq_len):\n",
        "    labels_list_from_batch = [item['label'] for item in batch]\n",
        "    texts_list_from_batch = [item['text'] for item in batch]\n",
        "    labels_tensor = torch.LongTensor(labels_list_from_batch)\n",
        "    all_sequences_as_vecs = []\n",
        "    for text_item in texts_list_from_batch:\n",
        "        string_tokens = hf_tokenizer.tokenize(str(text_item))[:max_seq_len] \n",
        "        if not string_tokens:\n",
        "            all_sequences_as_vecs.append(torch.tensor(unk_word_embedding, dtype=torch.float).unsqueeze(0))\n",
        "            continue\n",
        "        current_sequence_embeddings = [torch.tensor(glove_word_vectors.get(token_str, unk_word_embedding), dtype=torch.float) for token_str in string_tokens]\n",
        "        if not current_sequence_embeddings:\n",
        "            all_sequences_as_vecs.append(torch.tensor(unk_word_embedding, dtype=torch.float).unsqueeze(0))\n",
        "        else:\n",
        "            all_sequences_as_vecs.append(torch.stack(current_sequence_embeddings))\n",
        "    vecs_padded = pad_sequence(all_sequences_as_vecs, batch_first=False, padding_value=0.0)\n",
        "    return vecs_padded, labels_tensor\n",
        "\n",
        "train_loader_global, test_loader_global = None, None\n",
        "if glove_vectors_map_global is not None and train_data_list and test_data_list:\n",
        "    collate_fn_custom = partial(collate_with_glove,\n",
        "                                 hf_tokenizer=tokenizer,\n",
        "                                 glove_word_vectors=glove_vectors_map_global,\n",
        "                                 embedding_dimension=GLOVE_EMBEDDING_DIM,\n",
        "                                 unk_word_embedding=unk_embedding_global,\n",
        "                                 max_seq_len=MAX_SEQ_LEN)\n",
        "    train_loader_global = DataLoader(train_data_list, batch_size=BATCH_SIZE, shuffle=True, collate_fn=collate_fn_custom, pin_memory=True if DEVICE=='cuda' else False, num_workers=0)\n",
        "    test_loader_global = DataLoader(test_data_list, batch_size=BATCH_SIZE, collate_fn=collate_fn_custom, pin_memory=True if DEVICE=='cuda' else False, num_workers=0)\n",
        "    print(\"DataLoaders created for gcc_data.\")\n",
        "else:\n",
        "    print(\"GloVe vectors not loaded or data lists are empty. Cannot create DataLoaders.\")\n"
      ]
    },
    {
      "cell_type": "code",
      "execution_count": 8,
      "metadata": {},
      "outputs": [],
      "source": [
        "class AverageMeter(object):\n",
        "    def __init__(self): self.reset()\n",
        "    def reset(self): self.val, self.avg, self.sum, self.count = 0, 0, 0, 0\n",
        "    def update(self, val, n=1):\n",
        "        self.val = val; self.sum += val * n; self.count += n; self.avg = self.sum / self.count\n",
        "\n",
        "class RNNModel(nn.Module):\n",
        "  def __init__(self, RNN_cell_type, input_size, hidden_size, num_layers, bidirectional, num_cls, dropout_rate=0.5):\n",
        "    super().__init__()\n",
        "    self.rnn = RNN_cell_type(input_size=input_size,\n",
        "                             hidden_size=hidden_size,\n",
        "                             num_layers=num_layers,\n",
        "                             bidirectional=bidirectional,\n",
        "                             batch_first=False,\n",
        "                             dropout=dropout_rate if num_layers > 1 else 0) \n",
        "    fc_input_features = hidden_size * 2 if bidirectional else hidden_size\n",
        "    self.fc = nn.Linear(fc_input_features, num_cls) \n",
        "    self.dropout_fc = nn.Dropout(dropout_rate)\n",
        "\n",
        "  def forward(self, x):\n",
        "    outputs, _ = self.rnn(x) # outputs: (seq_len, batch, num_directions * hidden_size)\n",
        "    # Aggregate RNN outputs. Using mean pooling over time steps.\n",
        "    out = outputs.mean(dim=0) # Shape: (batch, num_directions * hidden_size)\n",
        "    out = self.dropout_fc(out)\n",
        "    y = self.fc(out) # Shape: (batch, num_cls)\n",
        "    return y\n"
      ]
    },
    {
      "cell_type": "code",
      "execution_count": 15,
      "metadata": {},
      "outputs": [],
      "source": [
        "scaler = GradScaler('cuda')\n",
        "\n",
        "def train_one_epoch(model, dataloader, loss_function, optim, current_epoch=None, accumulation_steps=1):\n",
        "    model.train()\n",
        "    loss_meter = AverageMeter()\n",
        "    correct_predictions = 0\n",
        "    total_samples = 0\n",
        "    \n",
        "    optim.zero_grad() # Zero gradients at the beginning of accumulation cycle or epoch\n",
        "\n",
        "    tepoch = tqdm(dataloader, unit=\"batch\")\n",
        "    if current_epoch is not None: tepoch.set_description(f\"Epoch {current_epoch+1}\")\n",
        "    \n",
        "    for i, (inputs, targets) in enumerate(tepoch):\n",
        "        inputs, targets = inputs.to(DEVICE), targets.to(DEVICE)\n",
        "        \n",
        "        with autocast('cuda'):\n",
        "            outputs = model(inputs)\n",
        "            loss = loss_function(outputs, targets)\n",
        "            if accumulation_steps > 1:\n",
        "                loss = loss / accumulation_steps \n",
        "        \n",
        "        scaler.scale(loss).backward() \n",
        "        \n",
        "        if (i + 1) % accumulation_steps == 0 or (i + 1) == len(dataloader):\n",
        "            scaler.step(optim) \n",
        "            scaler.update()    \n",
        "            optim.zero_grad() \n",
        "        \n",
        "        # Log un-normalized loss for comparability if accumulating\n",
        "        log_loss = loss.item() * accumulation_steps if accumulation_steps > 1 else loss.item()\n",
        "        # Correct batch size for loss meter update, inputs.size(1) is batch_size for batch_first=False\n",
        "        current_batch_size = inputs.size(1) if inputs.dim() > 1 else 1 \n",
        "        loss_meter.update(log_loss, current_batch_size)\n",
        "        \n",
        "        _, predicted_labels = torch.max(outputs.data, 1)\n",
        "        total_samples += targets.size(0)\n",
        "        correct_predictions += (predicted_labels == targets).sum().item()\n",
        "        tepoch.set_postfix(loss=loss_meter.avg, accuracy=100. * correct_predictions / total_samples if total_samples > 0 else 0.0)\n",
        "    \n",
        "    epoch_accuracy = 100. * correct_predictions / total_samples if total_samples > 0 else 0.0\n",
        "    return model, loss_meter.avg, epoch_accuracy\n",
        "\n",
        "def validate_model(model, dataloader, loss_function):\n",
        "    model.eval()\n",
        "    loss_meter = AverageMeter()\n",
        "    correct_predictions = 0\n",
        "    total_samples = 0\n",
        "    with torch.no_grad(), tqdm(dataloader, unit=\"batch\", desc=\"Validating\") as tepoch:\n",
        "        for inputs, targets in tepoch:\n",
        "            inputs, targets = inputs.to(DEVICE), targets.to(DEVICE)\n",
        "            with autocast('cuda'):\n",
        "                outputs = model(inputs)\n",
        "                loss = loss_function(outputs, targets)\n",
        "            current_batch_size = inputs.size(1) if inputs.dim() > 1 else 1\n",
        "            loss_meter.update(loss.item(), current_batch_size)\n",
        "            _, predicted_labels = torch.max(outputs.data, 1)\n",
        "            total_samples += targets.size(0)\n",
        "            correct_predictions += (predicted_labels == targets).sum().item()\n",
        "            tepoch.set_postfix(loss=loss_meter.avg, accuracy=100. * correct_predictions / total_samples if total_samples > 0 else 0.0)\n",
        "    epoch_accuracy = 100. * correct_predictions / total_samples if total_samples > 0 else 0.0\n",
        "    return loss_meter.avg, epoch_accuracy\n"
      ]
    },
    {
      "cell_type": "code",
      "execution_count": 16,
      "metadata": {},
      "outputs": [
        {
          "name": "stdout",
          "output_type": "stream",
          "text": [
            "\n",
            "Using device: cuda\n",
            "CUDA Device Name: NVIDIA GeForce RTX 3050 Ti Laptop GPU\n",
            "Initial GPU Memory: Free 3768.00MB / Total 3897.75MB\n",
            "\n",
            "Sample batch - X shape: torch.Size([256, 8, 300]), Y shape: torch.Size([8])\n",
            "\n",
            "RNN Model (LSTM) Initialized with 82 output classes.\n",
            "  Hidden Size: 128, Bidirectional: True, Layers: 1\n",
            "\n",
            "--- Starting Model Training (RNN with AMP, Grad Accum 4 steps, Batch Size 8) ---\n"
          ]
        },
        {
          "name": "stderr",
          "output_type": "stream",
          "text": [
            "Epoch 1: 100%|██████████| 211/211 [00:05<00:00, 41.83batch/s, accuracy=12.8, loss=3.65]\n",
            "Validating: 100%|██████████| 53/53 [00:01<00:00, 51.24batch/s, accuracy=12.8, loss=3.45]\n"
          ]
        },
        {
          "name": "stdout",
          "output_type": "stream",
          "text": [
            "Epoch 1/20 - Train Loss: 3.6502, Train Acc: 12.84%\n",
            "Validation: Loss = 3.4454, Accuracy = 12.83%\n",
            "Model Saved as rnn_model_bug_assign_best.pt!\n",
            "------------------------------\n"
          ]
        },
        {
          "name": "stderr",
          "output_type": "stream",
          "text": [
            "Epoch 2: 100%|██████████| 211/211 [00:04<00:00, 45.16batch/s, accuracy=15.1, loss=3.38]\n",
            "Validating: 100%|██████████| 53/53 [00:01<00:00, 47.68batch/s, accuracy=13.5, loss=3.36]\n"
          ]
        },
        {
          "name": "stdout",
          "output_type": "stream",
          "text": [
            "Epoch 2/20 - Train Loss: 3.3769, Train Acc: 15.10%\n",
            "Validation: Loss = 3.3587, Accuracy = 13.54%\n",
            "Model Saved as rnn_model_bug_assign_best.pt!\n",
            "------------------------------\n"
          ]
        },
        {
          "name": "stderr",
          "output_type": "stream",
          "text": [
            "Epoch 3: 100%|██████████| 211/211 [00:04<00:00, 43.69batch/s, accuracy=17.5, loss=3.26]\n",
            "Validating: 100%|██████████| 53/53 [00:01<00:00, 51.62batch/s, accuracy=15, loss=3.37]  \n"
          ]
        },
        {
          "name": "stdout",
          "output_type": "stream",
          "text": [
            "Epoch 3/20 - Train Loss: 3.2607, Train Acc: 17.54%\n",
            "Validation: Loss = 3.3691, Accuracy = 14.96%\n",
            "------------------------------\n"
          ]
        },
        {
          "name": "stderr",
          "output_type": "stream",
          "text": [
            "Epoch 4: 100%|██████████| 211/211 [00:04<00:00, 44.44batch/s, accuracy=20.3, loss=3.18]\n",
            "Validating: 100%|██████████| 53/53 [00:01<00:00, 49.54batch/s, accuracy=21.4, loss=3.26]\n"
          ]
        },
        {
          "name": "stdout",
          "output_type": "stream",
          "text": [
            "Epoch 4/20 - Train Loss: 3.1846, Train Acc: 20.27%\n",
            "Validation: Loss = 3.2569, Accuracy = 21.38%\n",
            "Model Saved as rnn_model_bug_assign_best.pt!\n",
            "------------------------------\n"
          ]
        },
        {
          "name": "stderr",
          "output_type": "stream",
          "text": [
            "Epoch 5: 100%|██████████| 211/211 [00:04<00:00, 45.65batch/s, accuracy=23.8, loss=3.1] \n",
            "Validating: 100%|██████████| 53/53 [00:01<00:00, 49.79batch/s, accuracy=23.3, loss=3.23]\n"
          ]
        },
        {
          "name": "stdout",
          "output_type": "stream",
          "text": [
            "Epoch 5/20 - Train Loss: 3.0954, Train Acc: 23.84%\n",
            "Validation: Loss = 3.2300, Accuracy = 23.28%\n",
            "Model Saved as rnn_model_bug_assign_best.pt!\n",
            "------------------------------\n"
          ]
        },
        {
          "name": "stderr",
          "output_type": "stream",
          "text": [
            "Epoch 6: 100%|██████████| 211/211 [00:04<00:00, 45.69batch/s, accuracy=25, loss=3.02]  \n",
            "Validating: 100%|██████████| 53/53 [00:00<00:00, 54.77batch/s, accuracy=24.5, loss=3.12]\n"
          ]
        },
        {
          "name": "stdout",
          "output_type": "stream",
          "text": [
            "Epoch 6/20 - Train Loss: 3.0157, Train Acc: 24.97%\n",
            "Validation: Loss = 3.1157, Accuracy = 24.47%\n",
            "Model Saved as rnn_model_bug_assign_best.pt!\n",
            "------------------------------\n"
          ]
        },
        {
          "name": "stderr",
          "output_type": "stream",
          "text": [
            "Epoch 7: 100%|██████████| 211/211 [00:04<00:00, 45.46batch/s, accuracy=27.5, loss=2.98]\n",
            "Validating: 100%|██████████| 53/53 [00:01<00:00, 48.64batch/s, accuracy=28.5, loss=3.03]\n"
          ]
        },
        {
          "name": "stdout",
          "output_type": "stream",
          "text": [
            "Epoch 7/20 - Train Loss: 2.9782, Train Acc: 27.47%\n",
            "Validation: Loss = 3.0307, Accuracy = 28.50%\n",
            "Model Saved as rnn_model_bug_assign_best.pt!\n",
            "------------------------------\n"
          ]
        },
        {
          "name": "stderr",
          "output_type": "stream",
          "text": [
            "Epoch 8: 100%|██████████| 211/211 [00:05<00:00, 41.68batch/s, accuracy=31.4, loss=2.83]\n",
            "Validating: 100%|██████████| 53/53 [00:01<00:00, 50.80batch/s, accuracy=32.5, loss=2.95]\n"
          ]
        },
        {
          "name": "stdout",
          "output_type": "stream",
          "text": [
            "Epoch 8/20 - Train Loss: 2.8275, Train Acc: 31.39%\n",
            "Validation: Loss = 2.9550, Accuracy = 32.54%\n",
            "Model Saved as rnn_model_bug_assign_best.pt!\n",
            "------------------------------\n"
          ]
        },
        {
          "name": "stderr",
          "output_type": "stream",
          "text": [
            "Epoch 9: 100%|██████████| 211/211 [00:04<00:00, 46.74batch/s, accuracy=31.4, loss=2.82]\n",
            "Validating: 100%|██████████| 53/53 [00:00<00:00, 53.80batch/s, accuracy=31.8, loss=2.92]\n"
          ]
        },
        {
          "name": "stdout",
          "output_type": "stream",
          "text": [
            "Epoch 9/20 - Train Loss: 2.8185, Train Acc: 31.39%\n",
            "Validation: Loss = 2.9226, Accuracy = 31.83%\n",
            "Model Saved as rnn_model_bug_assign_best.pt!\n",
            "------------------------------\n"
          ]
        },
        {
          "name": "stderr",
          "output_type": "stream",
          "text": [
            "Epoch 10: 100%|██████████| 211/211 [00:04<00:00, 45.92batch/s, accuracy=34.2, loss=2.65]\n",
            "Validating: 100%|██████████| 53/53 [00:01<00:00, 49.59batch/s, accuracy=30.6, loss=2.81]\n"
          ]
        },
        {
          "name": "stdout",
          "output_type": "stream",
          "text": [
            "Epoch 10/20 - Train Loss: 2.6531, Train Acc: 34.24%\n",
            "Validation: Loss = 2.8132, Accuracy = 30.64%\n",
            "Model Saved as rnn_model_bug_assign_best.pt!\n",
            "------------------------------\n"
          ]
        },
        {
          "name": "stderr",
          "output_type": "stream",
          "text": [
            "Epoch 11: 100%|██████████| 211/211 [00:04<00:00, 42.28batch/s, accuracy=35.8, loss=2.55]\n",
            "Validating: 100%|██████████| 53/53 [00:01<00:00, 47.57batch/s, accuracy=31.4, loss=2.76]\n"
          ]
        },
        {
          "name": "stdout",
          "output_type": "stream",
          "text": [
            "Epoch 11/20 - Train Loss: 2.5506, Train Acc: 35.79%\n",
            "Validation: Loss = 2.7643, Accuracy = 31.35%\n",
            "Model Saved as rnn_model_bug_assign_best.pt!\n",
            "------------------------------\n"
          ]
        },
        {
          "name": "stderr",
          "output_type": "stream",
          "text": [
            "Epoch 12: 100%|██████████| 211/211 [00:05<00:00, 41.52batch/s, accuracy=36.7, loss=2.5] \n",
            "Validating: 100%|██████████| 53/53 [00:01<00:00, 48.77batch/s, accuracy=33.3, loss=2.76]\n"
          ]
        },
        {
          "name": "stdout",
          "output_type": "stream",
          "text": [
            "Epoch 12/20 - Train Loss: 2.5045, Train Acc: 36.74%\n",
            "Validation: Loss = 2.7636, Accuracy = 33.25%\n",
            "Model Saved as rnn_model_bug_assign_best.pt!\n",
            "------------------------------\n"
          ]
        },
        {
          "name": "stderr",
          "output_type": "stream",
          "text": [
            "Epoch 13: 100%|██████████| 211/211 [00:04<00:00, 42.57batch/s, accuracy=38.1, loss=2.43]\n",
            "Validating: 100%|██████████| 53/53 [00:01<00:00, 44.26batch/s, accuracy=34.2, loss=2.68]\n"
          ]
        },
        {
          "name": "stdout",
          "output_type": "stream",
          "text": [
            "Epoch 13/20 - Train Loss: 2.4295, Train Acc: 38.11%\n",
            "Validation: Loss = 2.6833, Accuracy = 34.20%\n",
            "Model Saved as rnn_model_bug_assign_best.pt!\n",
            "------------------------------\n"
          ]
        },
        {
          "name": "stderr",
          "output_type": "stream",
          "text": [
            "Epoch 14: 100%|██████████| 211/211 [00:04<00:00, 42.47batch/s, accuracy=40.4, loss=2.34]\n",
            "Validating: 100%|██████████| 53/53 [00:01<00:00, 46.14batch/s, accuracy=36.6, loss=2.65]\n"
          ]
        },
        {
          "name": "stdout",
          "output_type": "stream",
          "text": [
            "Epoch 14/20 - Train Loss: 2.3438, Train Acc: 40.43%\n",
            "Validation: Loss = 2.6514, Accuracy = 36.58%\n",
            "Model Saved as rnn_model_bug_assign_best.pt!\n",
            "------------------------------\n"
          ]
        },
        {
          "name": "stderr",
          "output_type": "stream",
          "text": [
            "Epoch 15: 100%|██████████| 211/211 [00:04<00:00, 43.55batch/s, accuracy=40.9, loss=2.28]\n",
            "Validating: 100%|██████████| 53/53 [00:01<00:00, 45.12batch/s, accuracy=37.8, loss=2.63]\n"
          ]
        },
        {
          "name": "stdout",
          "output_type": "stream",
          "text": [
            "Epoch 15/20 - Train Loss: 2.2770, Train Acc: 40.90%\n",
            "Validation: Loss = 2.6287, Accuracy = 37.77%\n",
            "Model Saved as rnn_model_bug_assign_best.pt!\n",
            "------------------------------\n"
          ]
        },
        {
          "name": "stderr",
          "output_type": "stream",
          "text": [
            "Epoch 16: 100%|██████████| 211/211 [00:05<00:00, 41.52batch/s, accuracy=43.2, loss=2.18]\n",
            "Validating: 100%|██████████| 53/53 [00:01<00:00, 41.72batch/s, accuracy=36.3, loss=2.62]\n"
          ]
        },
        {
          "name": "stdout",
          "output_type": "stream",
          "text": [
            "Epoch 16/20 - Train Loss: 2.1812, Train Acc: 43.22%\n",
            "Validation: Loss = 2.6197, Accuracy = 36.34%\n",
            "Model Saved as rnn_model_bug_assign_best.pt!\n",
            "------------------------------\n"
          ]
        },
        {
          "name": "stderr",
          "output_type": "stream",
          "text": [
            "Epoch 17: 100%|██████████| 211/211 [00:05<00:00, 39.95batch/s, accuracy=43.4, loss=2.16]\n",
            "Validating: 100%|██████████| 53/53 [00:01<00:00, 46.84batch/s, accuracy=35.9, loss=2.63]\n"
          ]
        },
        {
          "name": "stdout",
          "output_type": "stream",
          "text": [
            "Epoch 17/20 - Train Loss: 2.1636, Train Acc: 43.40%\n",
            "Validation: Loss = 2.6261, Accuracy = 35.87%\n",
            "------------------------------\n"
          ]
        },
        {
          "name": "stderr",
          "output_type": "stream",
          "text": [
            "Epoch 18: 100%|██████████| 211/211 [00:05<00:00, 42.14batch/s, accuracy=44.9, loss=2.15]\n",
            "Validating: 100%|██████████| 53/53 [00:01<00:00, 46.31batch/s, accuracy=38, loss=2.61]  \n"
          ]
        },
        {
          "name": "stdout",
          "output_type": "stream",
          "text": [
            "Epoch 18/20 - Train Loss: 2.1460, Train Acc: 44.89%\n",
            "Validation: Loss = 2.6148, Accuracy = 38.00%\n",
            "Model Saved as rnn_model_bug_assign_best.pt!\n",
            "------------------------------\n"
          ]
        },
        {
          "name": "stderr",
          "output_type": "stream",
          "text": [
            "Epoch 19: 100%|██████████| 211/211 [00:04<00:00, 42.51batch/s, accuracy=45.9, loss=2.04]\n",
            "Validating: 100%|██████████| 53/53 [00:01<00:00, 46.30batch/s, accuracy=36.8, loss=2.61]\n"
          ]
        },
        {
          "name": "stdout",
          "output_type": "stream",
          "text": [
            "Epoch 19/20 - Train Loss: 2.0434, Train Acc: 45.90%\n",
            "Validation: Loss = 2.6063, Accuracy = 36.82%\n",
            "Model Saved as rnn_model_bug_assign_best.pt!\n",
            "------------------------------\n"
          ]
        },
        {
          "name": "stderr",
          "output_type": "stream",
          "text": [
            "Epoch 20: 100%|██████████| 211/211 [00:04<00:00, 44.26batch/s, accuracy=46.3, loss=2]   \n",
            "Validating: 100%|██████████| 53/53 [00:01<00:00, 50.54batch/s, accuracy=39, loss=2.52]  \n"
          ]
        },
        {
          "name": "stdout",
          "output_type": "stream",
          "text": [
            "Epoch 20/20 - Train Loss: 1.9965, Train Acc: 46.25%\n",
            "Validation: Loss = 2.5185, Accuracy = 38.95%\n",
            "Model Saved as rnn_model_bug_assign_best.pt!\n",
            "------------------------------\n",
            "--- Training Finished (RNN with AMP) ---\n"
          ]
        },
        {
          "data": {
            "image/png": "[encoded data removed]",
            "text/plain": [
              "<Figure size 1200x500 with 2 Axes>"
            ]
          },
          "metadata": {},
          "output_type": "display_data"
        },
        {
          "name": "stdout",
          "output_type": "stream",
          "text": [
            "\n",
            "--- Post-Training Cleanup ---\n",
            "Deleted rnn_model_global.\n",
            "Deleted optimizer_global.\n",
            "Deleted criterion_global.\n",
            "Deleted train_loader_global.\n",
            "Deleted test_loader_global.\n",
            "Deleted glove_vectors_map_global.\n",
            "Deleted unk_embedding_global.\n",
            "Deleted GradScaler.\n",
            "Deleted DataFrame 'df'.\n",
            "Running garbage collection...\n",
            "Emptying CUDA cache...\n",
            "GPU Memory after final cleanup: Free 3724.00MB / Total 3897.75MB\n",
            "\n",
            "Script execution completed.\n",
            "If GPU memory is still not fully released by the OS/driver after script exits,\n",
            "it might be held by the Python process itself (especially in interactive environments).\n",
            "Restarting the Python kernel/session is often the most definitive way to release all CUDA context memory.\n",
            "Ensure 'PYTORCH_CUDA_ALLOC_CONF=expandable_segments:True' is set as an environment variable if fragmentation is suspected.\n"
          ]
        }
      ],
      "source": [
        "rnn_model_global = None\n",
        "optimizer_global = None\n",
        "criterion_global = None\n",
        "\n",
        "if train_loader_global and test_loader_global and NUM_ACTUAL_CLS > 1:\n",
        "    print(f\"\\nUsing device: {DEVICE}\")\n",
        "    if DEVICE == 'cuda':\n",
        "        print(f\"CUDA Device Name: {torch.cuda.get_device_name(0)}\")\n",
        "        try:\n",
        "            current_free_mem, total_mem = torch.cuda.mem_get_info()\n",
        "            print(f\"Initial GPU Memory: Free {current_free_mem/1024**2:.2f}MB / Total {total_mem/1024**2:.2f}MB\")\n",
        "        except Exception as e:\n",
        "            print(f\"Could not get initial GPU memory info: {e}\")\n",
        "\n",
        "\n",
        "    # Clean up sample batch if it exists from previous runs in an interactive session\n",
        "    if 'x_batch_sample' in locals(): del x_batch_sample\n",
        "    if 'y_batch_sample' in locals(): del y_batch_sample\n",
        "    \n",
        "    try:\n",
        "        x_batch_sample, y_batch_sample = next(iter(train_loader_global))\n",
        "        print(f\"\\nSample batch - X shape: {x_batch_sample.shape}, Y shape: {y_batch_sample.shape}\")\n",
        "        del x_batch_sample, y_batch_sample # Delete sample batch immediately to free memory\n",
        "        if DEVICE == 'cuda': torch.cuda.empty_cache() # Clear cache after sample batch\n",
        "    except Exception as e:\n",
        "        print(f\"Error getting a sample batch from train_loader: {e}\")\n",
        "\n",
        "    rnn_model_global = RNNModel(RNN_cell_type=RNN_TYPE_CLASS,\n",
        "                         input_size=GLOVE_EMBEDDING_DIM,\n",
        "                         hidden_size=RNN_HIDDEN_SIZE,\n",
        "                         num_layers=RNN_NUM_LAYERS,\n",
        "                         bidirectional=RNN_BIDIRECTIONAL,\n",
        "                         num_cls=NUM_ACTUAL_CLS,\n",
        "                         dropout_rate=RNN_DROPOUT_RATE\n",
        "                         ).to(DEVICE)\n",
        "    \n",
        "    print(f\"\\nRNN Model ({RNN_TYPE_CLASS.__name__}) Initialized with {NUM_ACTUAL_CLS} output classes.\")\n",
        "    print(f\"  Hidden Size: {RNN_HIDDEN_SIZE}, Bidirectional: {RNN_BIDIRECTIONAL}, Layers: {RNN_NUM_LAYERS}\")\n",
        "\n",
        "    criterion_global = nn.CrossEntropyLoss()\n",
        "    optimizer_global = optim.Adam(rnn_model_global.parameters(), lr=LEARNING_RATE, weight_decay=WEIGHT_DECAY)\n",
        "\n",
        "    history = {'train_loss': [], 'valid_loss': [], 'train_acc': [], 'valid_acc': []}\n",
        "    best_valid_loss = float('inf')\n",
        "\n",
        "    print(f\"\\n--- Starting Model Training (RNN with AMP, Grad Accum {ACCUMULATION_STEPS} steps, Batch Size {BATCH_SIZE}) ---\")\n",
        "    for epoch_idx in range(NUM_EPOCHS):\n",
        "        rnn_model_global, train_loss, train_acc = train_one_epoch(rnn_model_global, train_loader_global, criterion_global, optimizer_global, epoch_idx, accumulation_steps=ACCUMULATION_STEPS)\n",
        "        valid_loss, valid_acc = validate_model(rnn_model_global, test_loader_global, criterion_global)\n",
        "        history['train_loss'].append(train_loss); history['valid_loss'].append(valid_loss)\n",
        "        history['train_acc'].append(train_acc); history['valid_acc'].append(valid_acc)\n",
        "        \n",
        "        print(f\"Epoch {epoch_idx+1}/{NUM_EPOCHS} - Train Loss: {train_loss:.4f}, Train Acc: {train_acc:.2f}%\")\n",
        "        print(f\"Validation: Loss = {valid_loss:.4f}, Accuracy = {valid_acc:.2f}%\")\n",
        "\n",
        "        if valid_loss < best_valid_loss:\n",
        "            torch.save(rnn_model_global.state_dict(), 'rnn_model_bug_assign_best.pt')\n",
        "            best_valid_loss = valid_loss\n",
        "            print('Model Saved as rnn_model_bug_assign_best.pt!')\n",
        "        print(\"-\" * 30)\n",
        "        \n",
        "        if DEVICE == 'cuda':\n",
        "            torch.cuda.empty_cache() # Clear cache at the end of each epoch\n",
        "\n",
        "    print(\"--- Training Finished (RNN with AMP) ---\")\n",
        "\n",
        "    if history['train_loss'] and plt is not None : # Check if training ran and plotting available\n",
        "        try:\n",
        "            plt.figure(figsize=(12, 5))\n",
        "            plt.subplot(1, 2, 1); plt.plot(history['train_loss'], label='Train Loss'); plt.plot(history['valid_loss'], label='Valid Loss')\n",
        "            plt.xlabel('Epoch'); plt.ylabel('Loss'); plt.legend(); plt.title('Loss vs. Epochs (RNN)')\n",
        "            plt.subplot(1, 2, 2); plt.plot(history['train_acc'], label='Train Accuracy'); plt.plot(history['valid_acc'], label='Valid Accuracy')\n",
        "            plt.xlabel('Epoch'); plt.ylabel('Accuracy (%)'); plt.legend(); plt.title('Accuracy vs. Epochs (RNN)')\n",
        "            plt.tight_layout(); plt.show()\n",
        "        except Exception as e:\n",
        "            print(f\"Error during plotting: {e}. Ensure matplotlib is correctly installed and configured.\")\n",
        "\n",
        "\n",
        "else:\n",
        "    print(\"Cannot start training: DataLoaders not initialized, insufficient classes, or GloVe vectors not loaded.\")\n",
        "\n",
        "# --- Post-Training Cleanup ---\n",
        "print(\"\\n--- Post-Training Cleanup ---\")\n",
        "if 'rnn_model_global' in locals() and rnn_model_global is not None:\n",
        "    del rnn_model_global; print(\"Deleted rnn_model_global.\")\n",
        "if 'optimizer_global' in locals() and optimizer_global is not None:\n",
        "    del optimizer_global; print(\"Deleted optimizer_global.\")\n",
        "if 'criterion_global' in locals() and criterion_global is not None:\n",
        "    del criterion_global; print(\"Deleted criterion_global.\")\n",
        "if 'train_loader_global' in locals() and train_loader_global is not None:\n",
        "    del train_loader_global; print(\"Deleted train_loader_global.\")\n",
        "if 'test_loader_global' in locals() and test_loader_global is not None:\n",
        "    del test_loader_global; print(\"Deleted test_loader_global.\")\n",
        "if 'glove_vectors_map_global' in locals() and glove_vectors_map_global is not None:\n",
        "    del glove_vectors_map_global; print(\"Deleted glove_vectors_map_global.\")\n",
        "if 'unk_embedding_global' in locals() and unk_embedding_global is not None :\n",
        "    del unk_embedding_global; print(\"Deleted unk_embedding_global.\")\n",
        "if 'scaler' in locals() and scaler is not None:\n",
        "    del scaler; print(\"Deleted GradScaler.\")\n",
        "\n",
        "# Delete dataframe and lists\n",
        "if 'df' in locals(): del df; print(\"Deleted DataFrame 'df'.\")\n",
        "if 'texts' in locals(): del texts\n",
        "if 'labels' in locals(): del labels\n",
        "if 'train_texts' in locals(): del train_texts\n",
        "if 'test_texts' in locals(): del test_texts\n",
        "if 'train_labels' in locals(): del train_labels\n",
        "if 'test_labels' in locals(): del test_labels\n",
        "if 'train_data_list' in locals(): del train_data_list\n",
        "if 'test_data_list' in locals(): del test_data_list\n",
        "if 'assignee_encoder' in locals(): del assignee_encoder\n",
        "if 'tokenizer' in locals(): del tokenizer\n",
        "\n",
        "\n",
        "print(\"Running garbage collection...\")\n",
        "gc.collect()\n",
        "\n",
        "if DEVICE == 'cuda':\n",
        "    print(\"Emptying CUDA cache...\")\n",
        "    torch.cuda.empty_cache()\n",
        "    try:\n",
        "        current_free_mem, total_mem = torch.cuda.mem_get_info()\n",
        "        print(f\"GPU Memory after final cleanup: Free {current_free_mem/1024**2:.2f}MB / Total {total_mem/1024**2:.2f}MB\")\n",
        "    except Exception as e:\n",
        "        print(f\"Could not get GPU memory info after final cleanup: {e}\")\n",
        "\n",
        "print(\"\\nScript execution completed.\")\n",
        "if DEVICE == 'cuda':\n",
        "    print(\"If GPU memory is still not fully released by the OS/driver after script exits,\")\n",
        "    print(\"it might be held by the Python process itself (especially in interactive environments).\")\n",
        "    print(\"Restarting the Python kernel/session is often the most definitive way to release all CUDA context memory.\")\n",
        "    print(\"Ensure 'PYTORCH_CUDA_ALLOC_CONF=expandable_segments:True' is set as an environment variable if fragmentation is suspected.\")\n"
      ]
    }
  ],
  "metadata": {
    "colab": {
      "provenance": []
    },
    "kernelspec": {
      "display_name": "nlp-project-UsGAi-Qg-py3.13",
      "language": "python",
      "name": "python3"
    },
    "language_info": {
      "codemirror_mode": {
        "name": "ipython",
        "version": 3
      },
      "file_extension": ".py",
      "mimetype": "text/x-python",
      "name": "python",
      "nbconvert_exporter": "python",
      "pygments_lexer": "ipython3",
      "version": "3.13.3"
    }
  },
  "nbformat": 4,
  "nbformat_minor": 0
}
