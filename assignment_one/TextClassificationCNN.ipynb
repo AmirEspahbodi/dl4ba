{
  "cells": [
    {
      "cell_type": "code",
      "execution_count": 2,
      "metadata": {
        "id": "w2LsSBEib4qq"
      },
      "outputs": [],
      "source": [
        "import torch\n",
        "import torch.nn as nn\n",
        "import torch.optim as optim\n",
        "import torch.nn.functional as F\n",
        "from torch.utils.data import DataLoader, Dataset\n",
        "from torch.nn.utils.rnn import pad_sequence\n",
        "\n",
        "# Hugging Face tokenizer (BERT tokenizer is used, not the full BERT model for embeddings here)\n",
        "from transformers import BertTokenizerFast\n",
        "\n",
        "# Scikit-learn for splitting and label encoding\n",
        "from sklearn.model_selection import train_test_split\n",
        "from sklearn.preprocessing import LabelEncoder\n",
        "\n",
        "import pandas as pd\n",
        "import numpy as np\n",
        "import matplotlib.pyplot as plt\n",
        "from tqdm import tqdm\n",
        "from functools import partial\n",
        "import os\n",
        "import requests\n",
        "import zipfile\n",
        "import re"
      ]
    },
    {
      "cell_type": "code",
      "execution_count": 3,
      "metadata": {},
      "outputs": [],
      "source": [
        "# --- GloVe Configuration ---\n",
        "GLOVE_FILE_NAME = 'glove.6B.300d.txt' # Using 300-dimensional GloVe embeddings\n",
        "GLOVE_EMBEDDING_DIM = 300\n",
        "GLOVE_PATH = f'./{GLOVE_FILE_NAME}'\n",
        "GLOVE_ZIP_URL = 'http://nlp.stanford.edu/data/glove.6B.zip'\n",
        "GLOVE_LOCAL_ZIP_PATH = './glove.6B.zip'\n",
        "\n",
        "# --- Model & Training Configuration ---\n",
        "# NUM_CLS will be set dynamically based on the dataset\n",
        "DEVICE = 'cuda' if torch.cuda.is_available() else 'cpu'\n",
        "BATCH_SIZE = 32 # Adjusted from 64, might need tuning\n",
        "LEARNING_RATE = 0.001 # Adjusted, common starting point for Adam/SGD with momentum\n",
        "WEIGHT_DECAY = 1e-4\n",
        "NUM_EPOCHS = 10 # Adjust as needed based on convergence\n",
        "VALID_SET_SIZE = 0.2 # Proportion of the dataset to use for validation if not using a pre-defined test set\n",
        "MIN_CLASS_REPRESENTATION = 2 # Minimum samples for a class to be considered for stratified split\n"
      ]
    },
    {
      "cell_type": "code",
      "execution_count": 4,
      "metadata": {},
      "outputs": [
        {
          "name": "stdout",
          "output_type": "stream",
          "text": [
            "Found existing GloVe text file: ./glove.6B.300d.txt\n",
            "Loading GloVe vectors from ./glove.6B.300d.txt with dimension 300...\n"
          ]
        },
        {
          "name": "stderr",
          "output_type": "stream",
          "text": [
            "Loading GloVe: 400000it [00:13, 28709.09it/s]"
          ]
        },
        {
          "name": "stdout",
          "output_type": "stream",
          "text": [
            "Successfully loaded 400000 word vectors.\n"
          ]
        },
        {
          "name": "stderr",
          "output_type": "stream",
          "text": [
            "\n"
          ]
        }
      ],
      "source": [
        "# --- GloVe File Handling ---\n",
        "def ensure_glove_file_is_present():\n",
        "    if os.path.exists(GLOVE_PATH):\n",
        "        print(f\"Found existing GloVe text file: {GLOVE_PATH}\")\n",
        "        return True\n",
        "    if not os.path.exists(GLOVE_LOCAL_ZIP_PATH):\n",
        "        print(f\"GloVe zip file {GLOVE_LOCAL_ZIP_PATH} not found. Attempting to download from {GLOVE_ZIP_URL}...\")\n",
        "        try:\n",
        "            response = requests.get(GLOVE_ZIP_URL, stream=True)\n",
        "            response.raise_for_status()\n",
        "            total_size_in_bytes = int(response.headers.get('content-length', 0))\n",
        "            block_size = 1024\n",
        "            with open(GLOVE_LOCAL_ZIP_PATH, 'wb') as file, tqdm(\n",
        "                desc=f\"Downloading {os.path.basename(GLOVE_ZIP_URL)}\",\n",
        "                total=total_size_in_bytes, unit='iB', unit_scale=True, unit_divisor=1024,\n",
        "            ) as bar:\n",
        "                for data in response.iter_content(block_size):\n",
        "                    bar.update(len(data))\n",
        "                    file.write(data)\n",
        "            print(f\"Successfully downloaded {GLOVE_LOCAL_ZIP_PATH}\")\n",
        "        except requests.exceptions.RequestException as e:\n",
        "            print(f\"Error downloading GloVe zip file: {e}\")\n",
        "            if os.path.exists(GLOVE_LOCAL_ZIP_PATH): os.remove(GLOVE_LOCAL_ZIP_PATH)\n",
        "            return False\n",
        "        except Exception as e:\n",
        "            print(f\"An unexpected error occurred during download: {e}\")\n",
        "            if os.path.exists(GLOVE_LOCAL_ZIP_PATH): os.remove(GLOVE_LOCAL_ZIP_PATH)\n",
        "            return False\n",
        "    else:\n",
        "        print(f\"Found existing GloVe zip file: {GLOVE_LOCAL_ZIP_PATH}\")\n",
        "\n",
        "    print(f\"Attempting to extract {GLOVE_FILE_NAME} from {GLOVE_LOCAL_ZIP_PATH}...\")\n",
        "    try:\n",
        "        with zipfile.ZipFile(GLOVE_LOCAL_ZIP_PATH, 'r') as zip_ref:\n",
        "            if GLOVE_FILE_NAME in zip_ref.namelist():\n",
        "                zip_ref.extract(GLOVE_FILE_NAME, path=os.path.dirname(GLOVE_PATH) or '.')\n",
        "                print(f\"Successfully extracted {GLOVE_FILE_NAME} to {GLOVE_PATH}\")\n",
        "                return True\n",
        "            else:\n",
        "                print(f\"Error: {GLOVE_FILE_NAME} not found inside {GLOVE_LOCAL_ZIP_PATH}.\")\n",
        "                print(f\"Available files: {zip_ref.namelist()}\")\n",
        "                return False\n",
        "    except zipfile.BadZipFile:\n",
        "        print(f\"Error: {GLOVE_LOCAL_ZIP_PATH} is a bad zip file. Please delete it and try again.\")\n",
        "        return False\n",
        "    except Exception as e:\n",
        "        print(f\"An error occurred during extraction: {e}\")\n",
        "        return False\n",
        "\n",
        "if not ensure_glove_file_is_present():\n",
        "    print(\"Could not obtain GloVe file. Exiting.\")\n",
        "    exit()\n",
        "\n",
        "def load_glove_vectors(glove_path, embedding_dim):\n",
        "    print(f\"Loading GloVe vectors from {glove_path} with dimension {embedding_dim}...\")\n",
        "    if not os.path.exists(glove_path):\n",
        "        print(f\"Error: GloVe file not found at {glove_path}.\")\n",
        "        return None\n",
        "    word_to_vec = {}\n",
        "    try:\n",
        "        with open(glove_path, 'r', encoding='utf-8') as f:\n",
        "            for line in tqdm(f, desc=\"Loading GloVe\"):\n",
        "                values = line.split()\n",
        "                word = values[0]\n",
        "                try:\n",
        "                    vector = np.asarray(values[1:], dtype='float32')\n",
        "                    if len(vector) == embedding_dim:\n",
        "                        word_to_vec[word] = vector\n",
        "                except ValueError:\n",
        "                    pass\n",
        "    except Exception as e:\n",
        "        print(f\"An error occurred while reading the GloVe file: {e}\")\n",
        "        return None\n",
        "    if not word_to_vec:\n",
        "        print(f\"No word vectors loaded from {glove_path}.\")\n",
        "        return None\n",
        "    print(f\"Successfully loaded {len(word_to_vec)} word vectors.\")\n",
        "    return word_to_vec\n",
        "\n",
        "glove_vectors_map = load_glove_vectors(GLOVE_PATH, GLOVE_EMBEDDING_DIM)\n",
        "\n",
        "unk_embedding = np.random.rand(GLOVE_EMBEDDING_DIM).astype('float32') # Random UNK if not in GloVe\n",
        "if glove_vectors_map:\n",
        "    if '[unk]' in glove_vectors_map: unk_embedding = glove_vectors_map['[unk]']\n",
        "    elif 'unk' in glove_vectors_map: unk_embedding = glove_vectors_map['unk']\n",
        "else:\n",
        "    print(\"GloVe vectors map is empty or not loaded. Using random UNK embedding. Training will be affected.\")\n",
        "    # exit() # Critical error, might be best to exit\n"
      ]
    },
    {
      "cell_type": "code",
      "execution_count": 5,
      "metadata": {},
      "outputs": [
        {
          "name": "stdout",
          "output_type": "stream",
          "text": [
            "Loading BERT tokenizer...\n",
            "Tokenizer loaded.\n"
          ]
        }
      ],
      "source": [
        "\n",
        "# --- Load Tokenizer (Hugging Face) ---\n",
        "print(\"Loading BERT tokenizer...\")\n",
        "tokenizer = BertTokenizerFast.from_pretrained('bert-base-uncased')\n",
        "print(\"Tokenizer loaded.\")\n",
        "\n"
      ]
    },
    {
      "cell_type": "code",
      "execution_count": 6,
      "metadata": {},
      "outputs": [
        {
          "name": "stdout",
          "output_type": "stream",
          "text": [
            "Loading gcc_data.csv...\n",
            "Original gcc_data shape: (2103, 5)\n",
            "Shape after dropping NA assignees: (2103, 6)\n",
            "Number of unique assignees (classes): 82\n"
          ]
        }
      ],
      "source": [
        "# --- Load and Prepare gcc_data.csv ---\n",
        "print(\"Loading gcc_data.csv...\")\n",
        "try:\n",
        "    df = pd.read_csv('../datasets/gcc_data.csv')\n",
        "except FileNotFoundError:\n",
        "    print(\"Error: gcc_data.csv not found. Please place it in the script's directory or provide the full path.\")\n",
        "    exit()\n",
        "\n",
        "print(f\"Original gcc_data shape: {df.shape}\")\n",
        "\n",
        "# Basic preprocessing for text columns\n",
        "df['Summary'] = df['Summary'].fillna('').astype(str)\n",
        "df['Description'] = df['Description'].fillna('').astype(str)\n",
        "df['text_input'] = df['Summary'] + \" \" + df['Description']\n",
        "\n",
        "# Target variable: Assignee. Drop rows with missing Assignee.\n",
        "df.dropna(subset=['Assignee'], inplace=True)\n",
        "df['Assignee'] = df['Assignee'].astype(str) # Ensure assignee names are strings\n",
        "print(f\"Shape after dropping NA assignees: {df.shape}\")\n",
        "\n",
        "# Label Encoding for Assignee\n",
        "assignee_encoder = LabelEncoder()\n",
        "df['assignee_encoded'] = assignee_encoder.fit_transform(df['Assignee'])\n",
        "NUM_ACTUAL_CLS = len(assignee_encoder.classes_)\n",
        "print(f\"Number of unique assignees (classes): {NUM_ACTUAL_CLS}\")\n",
        "if NUM_ACTUAL_CLS <= 1:\n",
        "    print(\"Error: Only one or no classes found after encoding. Cannot train classifier.\")\n",
        "    exit()\n",
        "\n"
      ]
    },
    {
      "cell_type": "code",
      "execution_count": 7,
      "metadata": {},
      "outputs": [
        {
          "name": "stdout",
          "output_type": "stream",
          "text": [
            "Warning: 25 classes have fewer than 2 samples. Proceeding without stratification.\n",
            "Small classes: ['Bill Schmidt', 'Martin Liška', 'Segher Boessenkool', 'Andreas Schwab', 'Richard Earnshaw']...\n",
            "Train set size: 1682, Test set size: 421\n"
          ]
        }
      ],
      "source": [
        "# --- Train/Test Split ---\n",
        "texts = df['text_input'].tolist()\n",
        "labels = df['assignee_encoded'].tolist() # Use encoded labels\n",
        "\n",
        "# Stratify only if all classes have at least MIN_CLASS_REPRESENTATION samples\n",
        "assignee_counts = df['Assignee'].value_counts()\n",
        "small_classes = assignee_counts[assignee_counts < MIN_CLASS_REPRESENTATION].index.tolist()\n",
        "\n",
        "stratify_labels = None\n",
        "if not small_classes: # If all classes have enough samples\n",
        "    stratify_labels = labels\n",
        "    print(f\"Attempting stratified split. All {NUM_ACTUAL_CLS} classes have at least {MIN_CLASS_REPRESENTATION} samples.\")\n",
        "else:\n",
        "    print(f\"Warning: {len(small_classes)} classes have fewer than {MIN_CLASS_REPRESENTATION} samples. Proceeding without stratification.\")\n",
        "    print(f\"Small classes: {small_classes[:5]}...\") # Print a few small classes\n",
        "\n",
        "\n",
        "train_texts, test_texts, train_labels, test_labels = train_test_split(\n",
        "    texts, labels, test_size=VALID_SET_SIZE, random_state=42, shuffle=True, stratify=stratify_labels\n",
        ")\n",
        "\n",
        "print(f\"Train set size: {len(train_texts)}, Test set size: {len(test_texts)}\")\n",
        "\n"
      ]
    },
    {
      "cell_type": "code",
      "execution_count": 8,
      "metadata": {},
      "outputs": [],
      "source": [
        "# --- Prepare data for DataLoader (list of dicts) ---\n",
        "def create_data_list(texts, labels):\n",
        "    return [{'text': text, 'label': label} for text, label in zip(texts, labels)]\n",
        "\n",
        "train_data_list = create_data_list(train_texts, train_labels)\n",
        "test_data_list = create_data_list(test_texts, test_labels)\n",
        "\n",
        "\n"
      ]
    },
    {
      "cell_type": "code",
      "execution_count": 9,
      "metadata": {},
      "outputs": [],
      "source": [
        "# --- Collate Function (adapted for custom data) ---\n",
        "def collate_with_glove(batch, hf_tokenizer, glove_word_vectors, embedding_dimension, unk_word_embedding):\n",
        "    labels_list = [item['label'] for item in batch]\n",
        "    texts_list = [item['text'] for item in batch]\n",
        "    \n",
        "    # Ensure labels are LongTensors for CrossEntropyLoss\n",
        "    labels = torch.LongTensor(labels_list) \n",
        "\n",
        "    all_sequences_as_vecs = []\n",
        "    for text_item in texts_list:\n",
        "        string_tokens = hf_tokenizer.tokenize(str(text_item)) # Ensure text_item is string\n",
        "\n",
        "        if not string_tokens:\n",
        "            all_sequences_as_vecs.append(torch.tensor(unk_word_embedding, dtype=torch.float).unsqueeze(0))\n",
        "            continue\n",
        "\n",
        "        current_sequence_embeddings = []\n",
        "        for token_str in string_tokens:\n",
        "            vec = glove_word_vectors.get(token_str, unk_word_embedding)\n",
        "            current_sequence_embeddings.append(torch.tensor(vec, dtype=torch.float))\n",
        "        \n",
        "        if not current_sequence_embeddings:\n",
        "            all_sequences_as_vecs.append(torch.tensor(unk_word_embedding, dtype=torch.float).unsqueeze(0))\n",
        "        else:\n",
        "            all_sequences_as_vecs.append(torch.stack(current_sequence_embeddings))\n",
        "\n",
        "    vecs_padded = pad_sequence(all_sequences_as_vecs, batch_first=False, padding_value=0.0)\n",
        "    return vecs_padded, labels\n",
        "\n"
      ]
    },
    {
      "cell_type": "code",
      "execution_count": 10,
      "metadata": {},
      "outputs": [
        {
          "name": "stdout",
          "output_type": "stream",
          "text": [
            "DataLoaders created for gcc_data.\n"
          ]
        }
      ],
      "source": [
        "# --- Create DataLoaders ---\n",
        "if glove_vectors_map is not None and train_data_list and test_data_list:\n",
        "    collate_fn_custom = partial(collate_with_glove,\n",
        "                                 hf_tokenizer=tokenizer,\n",
        "                                 glove_word_vectors=glove_vectors_map,\n",
        "                                 embedding_dimension=GLOVE_EMBEDDING_DIM,\n",
        "                                 unk_word_embedding=unk_embedding)\n",
        "\n",
        "    train_loader = DataLoader(train_data_list, batch_size=BATCH_SIZE, shuffle=True, collate_fn=collate_fn_custom)\n",
        "    test_loader = DataLoader(test_data_list, batch_size=BATCH_SIZE, collate_fn=collate_fn_custom)\n",
        "    print(\"DataLoaders created for gcc_data.\")\n",
        "else:\n",
        "    print(\"GloVe vectors not loaded or data lists are empty. Cannot create DataLoaders.\")\n",
        "    train_loader = None\n",
        "    test_loader = None\n",
        "\n"
      ]
    },
    {
      "cell_type": "code",
      "execution_count": 11,
      "metadata": {},
      "outputs": [],
      "source": [
        "# --- Utility Classes and CNN Model (largely unchanged) ---\n",
        "class AverageMeter(object):\n",
        "    def __init__(self): self.reset()\n",
        "    def reset(self): self.val, self.avg, self.sum, self.count = 0, 0, 0, 0\n",
        "    def update(self, val, n=1):\n",
        "        self.val = val; self.sum += val * n; self.count += n; self.avg = self.sum / self.count\n",
        "\n",
        "class CNNModel(nn.Module):\n",
        "    def __init__(self, embed_dim, filter_sizes, num_filters_per_size, num_classes, dropout_rate):\n",
        "        super(CNNModel, self).__init__()\n",
        "        self.conv1d_list = nn.ModuleList([\n",
        "            nn.Conv1d(in_channels=embed_dim, out_channels=n_filters, kernel_size=f_size)\n",
        "            for f_size, n_filters in zip(filter_sizes, num_filters_per_size) # Iterate over pairs\n",
        "        ])\n",
        "        # Calculate total number of filters correctly\n",
        "        total_filters = sum(num_filters_per_size)\n",
        "        self.fc = nn.Linear(total_filters, num_classes)\n",
        "        self.dropout = nn.Dropout(p=dropout_rate)\n",
        "\n",
        "    def forward(self, x):\n",
        "        # x shape: (max_seq_length, batch_size, embedding_dim)\n",
        "        x = x.permute(1, 2, 0) # (batch_size, embedding_dim, max_seq_length)\n",
        "\n",
        "        conv_outputs = []\n",
        "        for conv_layer in self.conv1d_list:\n",
        "            conv_output = conv_layer(x)\n",
        "            conv_output = F.relu(conv_output)\n",
        "            conv_output = F.max_pool1d(conv_output, kernel_size=conv_output.size(2)).squeeze(2)\n",
        "            conv_outputs.append(conv_output)\n",
        "\n",
        "        x_concatenated = torch.cat(conv_outputs, dim=1)\n",
        "        x_dropped_out = self.dropout(x_concatenated)\n",
        "        logits = self.fc(x_dropped_out)\n",
        "        return logits\n",
        "\n"
      ]
    },
    {
      "cell_type": "code",
      "execution_count": 12,
      "metadata": {},
      "outputs": [],
      "source": [
        "# --- Training and Validation Functions (largely unchanged) ---\n",
        "def train_one_epoch(model, dataloader, loss_function, optim, current_epoch=None):\n",
        "    model.train()\n",
        "    loss_meter = AverageMeter()\n",
        "    correct_predictions = 0\n",
        "    total_samples = 0\n",
        "    tepoch = tqdm(dataloader, unit=\"batch\")\n",
        "    if current_epoch is not None: tepoch.set_description(f\"Epoch {current_epoch+1}\")\n",
        "    for inputs, targets in tepoch:\n",
        "        inputs, targets = inputs.to(DEVICE), targets.to(DEVICE)\n",
        "        outputs = model(inputs)\n",
        "        loss = loss_function(outputs, targets)\n",
        "        optim.zero_grad(); loss.backward(); optim.step()\n",
        "        loss_meter.update(loss.item(), inputs.size(1)) # batch_size is second dim of permuted input\n",
        "        _, predicted_labels = torch.max(outputs.data, 1)\n",
        "        total_samples += targets.size(0)\n",
        "        correct_predictions += (predicted_labels == targets).sum().item()\n",
        "        tepoch.set_postfix(loss=loss_meter.avg, accuracy=100. * correct_predictions / total_samples if total_samples > 0 else 0)\n",
        "    return model, loss_meter.avg, (100. * correct_predictions / total_samples if total_samples > 0 else 0)\n",
        "\n",
        "def validate_model(model, dataloader, loss_function):\n",
        "    model.eval()\n",
        "    loss_meter = AverageMeter()\n",
        "    correct_predictions = 0\n",
        "    total_samples = 0\n",
        "    with torch.no_grad(), tqdm(dataloader, unit=\"batch\", desc=\"Validating\") as tepoch:\n",
        "        for inputs, targets in tepoch:\n",
        "            inputs, targets = inputs.to(DEVICE), targets.to(DEVICE)\n",
        "            outputs = model(inputs)\n",
        "            loss = loss_function(outputs, targets)\n",
        "            loss_meter.update(loss.item(), inputs.size(1))\n",
        "            _, predicted_labels = torch.max(outputs.data, 1)\n",
        "            total_samples += targets.size(0)\n",
        "            correct_predictions += (predicted_labels == targets).sum().item()\n",
        "            tepoch.set_postfix(loss=loss_meter.avg, accuracy=100. * correct_predictions / total_samples if total_samples > 0 else 0)\n",
        "    return loss_meter.avg, (100. * correct_predictions / total_samples if total_samples > 0 else 0)\n",
        "\n",
        "\n"
      ]
    },
    {
      "cell_type": "code",
      "execution_count": 13,
      "metadata": {},
      "outputs": [
        {
          "name": "stderr",
          "output_type": "stream",
          "text": [
            "Token indices sequence length is longer than the specified maximum sequence length for this model (757 > 512). Running this sequence through the model will result in indexing errors\n"
          ]
        },
        {
          "name": "stdout",
          "output_type": "stream",
          "text": [
            "\n",
            "Using device: cuda\n",
            "\n",
            "Sample batch - X shape: torch.Size([1835, 32, 300]), Y shape: torch.Size([32])\n",
            "\n",
            "CNN Model Initialized with 82 output classes.\n",
            "CNNModel(\n",
            "  (conv1d_list): ModuleList(\n",
            "    (0): Conv1d(300, 100, kernel_size=(2,), stride=(1,))\n",
            "    (1): Conv1d(300, 100, kernel_size=(3,), stride=(1,))\n",
            "    (2): Conv1d(300, 100, kernel_size=(4,), stride=(1,))\n",
            "    (3): Conv1d(300, 100, kernel_size=(5,), stride=(1,))\n",
            "  )\n",
            "  (fc): Linear(in_features=400, out_features=82, bias=True)\n",
            "  (dropout): Dropout(p=0.5, inplace=False)\n",
            ")\n",
            "\n",
            "--- Starting Model Training ---\n"
          ]
        },
        {
          "name": "stderr",
          "output_type": "stream",
          "text": [
            "Epoch 1: 100%|██████████| 53/53 [00:10<00:00,  5.12batch/s, accuracy=20.5, loss=3.47]\n",
            "Validating: 100%|██████████| 14/14 [00:02<00:00,  6.74batch/s, accuracy=33, loss=3.05]  \n"
          ]
        },
        {
          "name": "stdout",
          "output_type": "stream",
          "text": [
            "Model Saved as cnn_bug_assign_best.pt!\n",
            "Validation: Loss = 3.0520, Accuracy = 33.02%\n",
            "------------------------------\n"
          ]
        },
        {
          "name": "stderr",
          "output_type": "stream",
          "text": [
            "Epoch 2: 100%|██████████| 53/53 [00:09<00:00,  5.51batch/s, accuracy=34.9, loss=2.8] \n",
            "Validating: 100%|██████████| 14/14 [00:02<00:00,  6.95batch/s, accuracy=40.4, loss=2.61]\n"
          ]
        },
        {
          "name": "stdout",
          "output_type": "stream",
          "text": [
            "Model Saved as cnn_bug_assign_best.pt!\n",
            "Validation: Loss = 2.6131, Accuracy = 40.38%\n",
            "------------------------------\n"
          ]
        },
        {
          "name": "stderr",
          "output_type": "stream",
          "text": [
            "Epoch 3: 100%|██████████| 53/53 [00:10<00:00,  5.24batch/s, accuracy=44, loss=2.36]  \n",
            "Validating: 100%|██████████| 14/14 [00:02<00:00,  6.46batch/s, accuracy=45.1, loss=2.34]\n"
          ]
        },
        {
          "name": "stdout",
          "output_type": "stream",
          "text": [
            "Model Saved as cnn_bug_assign_best.pt!\n",
            "Validation: Loss = 2.3355, Accuracy = 45.13%\n",
            "------------------------------\n"
          ]
        },
        {
          "name": "stderr",
          "output_type": "stream",
          "text": [
            "Epoch 4: 100%|██████████| 53/53 [00:09<00:00,  5.48batch/s, accuracy=51.8, loss=2.03]\n",
            "Validating: 100%|██████████| 14/14 [00:02<00:00,  6.58batch/s, accuracy=51.5, loss=2.18]\n"
          ]
        },
        {
          "name": "stdout",
          "output_type": "stream",
          "text": [
            "Model Saved as cnn_bug_assign_best.pt!\n",
            "Validation: Loss = 2.1805, Accuracy = 51.54%\n",
            "------------------------------\n"
          ]
        },
        {
          "name": "stderr",
          "output_type": "stream",
          "text": [
            "Epoch 5: 100%|██████████| 53/53 [00:09<00:00,  5.38batch/s, accuracy=56.9, loss=1.73]\n",
            "Validating: 100%|██████████| 14/14 [00:02<00:00,  6.90batch/s, accuracy=50.4, loss=2.04]\n"
          ]
        },
        {
          "name": "stdout",
          "output_type": "stream",
          "text": [
            "Model Saved as cnn_bug_assign_best.pt!\n",
            "Validation: Loss = 2.0378, Accuracy = 50.36%\n",
            "------------------------------\n"
          ]
        },
        {
          "name": "stderr",
          "output_type": "stream",
          "text": [
            "Epoch 6: 100%|██████████| 53/53 [00:09<00:00,  5.67batch/s, accuracy=62, loss=1.5]   \n",
            "Validating: 100%|██████████| 14/14 [00:02<00:00,  6.66batch/s, accuracy=54.6, loss=1.92]\n"
          ]
        },
        {
          "name": "stdout",
          "output_type": "stream",
          "text": [
            "Model Saved as cnn_bug_assign_best.pt!\n",
            "Validation: Loss = 1.9248, Accuracy = 54.63%\n",
            "------------------------------\n"
          ]
        },
        {
          "name": "stderr",
          "output_type": "stream",
          "text": [
            "Epoch 7: 100%|██████████| 53/53 [00:09<00:00,  5.34batch/s, accuracy=67.9, loss=1.28]\n",
            "Validating: 100%|██████████| 14/14 [00:02<00:00,  6.55batch/s, accuracy=57, loss=1.85]  \n"
          ]
        },
        {
          "name": "stdout",
          "output_type": "stream",
          "text": [
            "Model Saved as cnn_bug_assign_best.pt!\n",
            "Validation: Loss = 1.8539, Accuracy = 57.01%\n",
            "------------------------------\n"
          ]
        },
        {
          "name": "stderr",
          "output_type": "stream",
          "text": [
            "Epoch 8: 100%|██████████| 53/53 [00:09<00:00,  5.46batch/s, accuracy=74.7, loss=1.06] \n",
            "Validating: 100%|██████████| 14/14 [00:02<00:00,  6.83batch/s, accuracy=55.6, loss=1.81]\n"
          ]
        },
        {
          "name": "stdout",
          "output_type": "stream",
          "text": [
            "Model Saved as cnn_bug_assign_best.pt!\n",
            "Validation: Loss = 1.8088, Accuracy = 55.58%\n",
            "------------------------------\n"
          ]
        },
        {
          "name": "stderr",
          "output_type": "stream",
          "text": [
            "Epoch 9: 100%|██████████| 53/53 [00:09<00:00,  5.41batch/s, accuracy=76.8, loss=0.935]\n",
            "Validating: 100%|██████████| 14/14 [00:02<00:00,  6.84batch/s, accuracy=57, loss=1.8]   \n"
          ]
        },
        {
          "name": "stdout",
          "output_type": "stream",
          "text": [
            "Model Saved as cnn_bug_assign_best.pt!\n",
            "Validation: Loss = 1.8005, Accuracy = 57.01%\n",
            "------------------------------\n"
          ]
        },
        {
          "name": "stderr",
          "output_type": "stream",
          "text": [
            "Epoch 10: 100%|██████████| 53/53 [00:10<00:00,  5.28batch/s, accuracy=82.8, loss=0.762]\n",
            "Validating: 100%|██████████| 14/14 [00:02<00:00,  6.01batch/s, accuracy=56.3, loss=1.79]\n"
          ]
        },
        {
          "name": "stdout",
          "output_type": "stream",
          "text": [
            "Model Saved as cnn_bug_assign_best.pt!\n",
            "Validation: Loss = 1.7935, Accuracy = 56.29%\n",
            "------------------------------\n",
            "--- Training Finished ---\n"
          ]
        },
        {
          "data": {
            "image/png": "[encoded data removed]",
            "text/plain": [
              "<Figure size 1200x500 with 2 Axes>"
            ]
          },
          "metadata": {},
          "output_type": "display_data"
        },
        {
          "name": "stdout",
          "output_type": "stream",
          "text": [
            "\n",
            "Script execution completed.\n"
          ]
        }
      ],
      "source": [
        "# --- Main Training Execution ---\n",
        "if train_loader and test_loader and NUM_ACTUAL_CLS > 1:\n",
        "    print(f\"\\nUsing device: {DEVICE}\")\n",
        "    # Test one batch\n",
        "    try:\n",
        "        x_batch, y_batch = next(iter(train_loader))\n",
        "        print(f\"\\nSample batch - X shape: {x_batch.shape}, Y shape: {y_batch.shape}\")\n",
        "    except Exception as e:\n",
        "        print(f\"Error getting a batch from train_loader (might be empty or an issue with collate_fn): {e}\")\n",
        "        # exit() # Exit if we can't even get a batch\n",
        "\n",
        "    # Initialize model, loss, optimizer\n",
        "    # Ensure num_filters_per_size matches the number of filter_sizes\n",
        "    filter_kernel_sizes = [2, 3, 4, 5] # Example filter sizes\n",
        "    num_filters = [100] * len(filter_kernel_sizes) # 100 filters for each size\n",
        "\n",
        "    cnn_model = CNNModel(embed_dim=GLOVE_EMBEDDING_DIM,\n",
        "                         filter_sizes=filter_kernel_sizes,\n",
        "                         num_filters_per_size=num_filters,\n",
        "                         num_classes=NUM_ACTUAL_CLS, # Use dynamic number of classes\n",
        "                         dropout_rate=0.5).to(DEVICE)\n",
        "    print(f\"\\nCNN Model Initialized with {NUM_ACTUAL_CLS} output classes.\")\n",
        "    print(cnn_model)\n",
        "\n",
        "    criterion = nn.CrossEntropyLoss()\n",
        "    optimizer = optim.Adam(cnn_model.parameters(), lr=LEARNING_RATE, weight_decay=WEIGHT_DECAY)\n",
        "    # optimizer = optim.SGD(cnn_model.parameters(), lr=LEARNING_RATE, weight_decay=WEIGHT_DECAY, momentum=0.9)\n",
        "\n",
        "\n",
        "    history = {'train_loss': [], 'valid_loss': [], 'train_acc': [], 'valid_acc': []}\n",
        "    best_valid_loss = float('inf')\n",
        "\n",
        "    print(\"\\n--- Starting Model Training ---\")\n",
        "    for epoch_idx in range(NUM_EPOCHS):\n",
        "        cnn_model, train_loss, train_acc = train_one_epoch(cnn_model, train_loader, criterion, optimizer, epoch_idx)\n",
        "        valid_loss, valid_acc = validate_model(cnn_model, test_loader, criterion)\n",
        "        history['train_loss'].append(train_loss); history['valid_loss'].append(valid_loss)\n",
        "        history['train_acc'].append(train_acc); history['valid_acc'].append(valid_acc)\n",
        "        if valid_loss < best_valid_loss:\n",
        "            torch.save(cnn_model.state_dict(), 'cnn_bug_assign_best.pt')\n",
        "            best_valid_loss = valid_loss\n",
        "            print('Model Saved as cnn_bug_assign_best.pt!')\n",
        "        print(f'Validation: Loss = {valid_loss:.4f}, Accuracy = {valid_acc:.2f}%')\n",
        "        print(\"-\" * 30)\n",
        "    print(\"--- Training Finished ---\")\n",
        "\n",
        "    if history['train_loss']:\n",
        "        plt.figure(figsize=(12, 5))\n",
        "        plt.subplot(1, 2, 1); plt.plot(history['train_loss'], label='Train Loss'); plt.plot(history['valid_loss'], label='Valid Loss')\n",
        "        plt.xlabel('Epoch'); plt.ylabel('Loss'); plt.legend(); plt.title('Loss vs. Epochs')\n",
        "        plt.subplot(1, 2, 2); plt.plot(history['train_acc'], label='Train Accuracy'); plt.plot(history['valid_acc'], label='Valid Accuracy')\n",
        "        plt.xlabel('Epoch'); plt.ylabel('Accuracy (%)'); plt.legend(); plt.title('Accuracy vs. Epochs')\n",
        "        plt.tight_layout(); plt.show()\n",
        "else:\n",
        "    print(\"Cannot start training: DataLoaders not initialized or insufficient classes.\")\n",
        "\n",
        "print(\"\\nScript execution completed.\")"
      ]
    }
  ],
  "metadata": {
    "colab": {
      "provenance": []
    },
    "kernelspec": {
      "display_name": "Python 3",
      "language": "python",
      "name": "python3"
    },
    "language_info": {
      "codemirror_mode": {
        "name": "ipython",
        "version": 3
      },
      "file_extension": ".py",
      "mimetype": "text/x-python",
      "name": "python",
      "nbconvert_exporter": "python",
      "pygments_lexer": "ipython3",
      "version": "3.13.3"
    }
  },
  "nbformat": 4,
  "nbformat_minor": 0
}
